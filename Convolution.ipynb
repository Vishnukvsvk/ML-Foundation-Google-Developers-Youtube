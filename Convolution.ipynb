{
  "nbformat": 4,
  "nbformat_minor": 0,
  "metadata": {
    "colab": {
      "name": "Convolution.ipynb",
      "provenance": [],
      "collapsed_sections": [],
      "authorship_tag": "ABX9TyM8wdsmR94qsbtqV76UatsQ",
      "include_colab_link": true
    },
    "kernelspec": {
      "name": "python3",
      "display_name": "Python 3"
    },
    "accelerator": "GPU"
  },
  "cells": [
    {
      "cell_type": "markdown",
      "metadata": {
        "id": "view-in-github",
        "colab_type": "text"
      },
      "source": [
        "<a href=\"https://colab.research.google.com/github/Vishnukvsvk/ML-Foundation-Google-Developers-Youtube/blob/master/Convolution.ipynb\" target=\"_parent\"><img src=\"https://colab.research.google.com/assets/colab-badge.svg\" alt=\"Open In Colab\"/></a>"
      ]
    },
    {
      "cell_type": "markdown",
      "metadata": {
        "id": "to0tW4snoW8c",
        "colab_type": "text"
      },
      "source": [
        "#Improving Computer Vision Accuracy using Convolutions"
      ]
    },
    {
      "cell_type": "code",
      "metadata": {
        "id": "hrgBT_JCoTjF",
        "colab_type": "code",
        "outputId": "27333ecd-9ded-4dd1-cf8d-d9c4a88585b1",
        "colab": {
          "base_uri": "https://localhost:8080/",
          "height": 374
        }
      },
      "source": [
        "import tensorflow as tf\n",
        "from tensorflow import keras\n",
        "mnist = tf.keras.datasets.fashion_mnist\n",
        "\n",
        "(training_images,training_labels),(testing_images,testing_labels) = mnist.load_data()\n",
        "training_images = training_images/255.0\n",
        "testing_images = testing_images/255.0\n",
        "\n",
        "model = tf.keras.Sequential([\n",
        "                             keras.layers.Flatten(),\n",
        "                             keras.layers.Dense(128,activation=tf.nn.relu),\n",
        "                             keras.layers.Dense(10,activation=tf.nn.softmax)\n",
        "])\n",
        "\n",
        "model.compile(optimizer='adam',loss='sparse_categorical_crossentropy',metrics=['accuracy'])\n",
        "model.fit(training_images,training_labels,epochs=5)\n",
        "\n",
        "print(\"For testing data\")\n",
        "\n",
        "test_loss=model.evaluate(testing_images,testing_labels)\n",
        "print(test_loss)"
      ],
      "execution_count": 0,
      "outputs": [
        {
          "output_type": "stream",
          "text": [
            "Downloading data from https://storage.googleapis.com/tensorflow/tf-keras-datasets/train-labels-idx1-ubyte.gz\n",
            "32768/29515 [=================================] - 0s 0us/step\n",
            "Downloading data from https://storage.googleapis.com/tensorflow/tf-keras-datasets/train-images-idx3-ubyte.gz\n",
            "26427392/26421880 [==============================] - 0s 0us/step\n",
            "Downloading data from https://storage.googleapis.com/tensorflow/tf-keras-datasets/t10k-labels-idx1-ubyte.gz\n",
            "8192/5148 [===============================================] - 0s 0us/step\n",
            "Downloading data from https://storage.googleapis.com/tensorflow/tf-keras-datasets/t10k-images-idx3-ubyte.gz\n",
            "4423680/4422102 [==============================] - 0s 0us/step\n",
            "Epoch 1/5\n",
            "1875/1875 [==============================] - 3s 2ms/step - loss: 0.4988 - accuracy: 0.8241\n",
            "Epoch 2/5\n",
            "1875/1875 [==============================] - 3s 2ms/step - loss: 0.3748 - accuracy: 0.8648\n",
            "Epoch 3/5\n",
            "1875/1875 [==============================] - 3s 2ms/step - loss: 0.3380 - accuracy: 0.8778\n",
            "Epoch 4/5\n",
            "1875/1875 [==============================] - 3s 2ms/step - loss: 0.3143 - accuracy: 0.8850\n",
            "Epoch 5/5\n",
            "1875/1875 [==============================] - 4s 2ms/step - loss: 0.2965 - accuracy: 0.8903\n",
            "For testing data\n",
            "313/313 [==============================] - 1s 2ms/step - loss: 0.3526 - accuracy: 0.8720\n",
            "[0.35258033871650696, 0.871999979019165]\n"
          ],
          "name": "stdout"
        }
      ]
    },
    {
      "cell_type": "markdown",
      "metadata": {
        "id": "tgsIpD1mrk6c",
        "colab_type": "text"
      },
      "source": [
        "###Your accuracy is probably about 89% on training and 87% on validation...not bad.But we can imporove accuracy by using  something called Convolutions."
      ]
    },
    {
      "cell_type": "markdown",
      "metadata": {
        "id": "q9Uss2fxrdca",
        "colab_type": "text"
      },
      "source": [
        "In short, you take an array (usually 3x3 or 5x5) and pass it over the image. By changing the underlying pixels based on the formula within that matrix, you can do things like edge detection. So, for example, if you look at the above link, you'll see a 3x3 that is defined for edge detection where the middle cell is 8, and all of its neighbors are -1. In this case, for each pixel, you would multiply its value by 8, then subtract the value of each neighbor. Do this for every pixel, and you'll end up with a new image that has the edges enhanced."
      ]
    },
    {
      "cell_type": "code",
      "metadata": {
        "id": "gfFQFKGfqHPb",
        "colab_type": "code",
        "outputId": "7af8be31-8e9c-4277-b735-05c008c5f01c",
        "colab": {
          "base_uri": "https://localhost:8080/",
          "height": 612
        }
      },
      "source": [
        "import tensorflow as tf\n",
        "from tensorflow import keras\n",
        "\n",
        "mnist = tf.keras.datasets.fashion_mnist\n",
        "(training_images,training_labels),(testing_images,testing_labels)= mnist.load_data()\n",
        "\n",
        "training_images=training_images.reshape(60000, 28, 28, 1)\n",
        "training_images=training_images / 255.0\n",
        "testing_images = testing_images.reshape(10000, 28, 28, 1)\n",
        "testing_images=testing_images/255.0\n",
        "\n",
        "model = tf.keras.Sequential([\n",
        "                             keras.layers.Conv2D(64,(3,3),activation='relu',input_shape=(28,28,1)), #64=no.of filters, (3,3)-->matrix size\n",
        "                             keras.layers.MaxPooling2D(pool_size=(2,2)),\n",
        "                             keras.layers.Conv2D(64,(3,3),activation=tf.nn.relu),\n",
        "                             keras.layers.MaxPooling2D((2,2)),\n",
        "                             keras.layers.Flatten(),\n",
        "                             keras.layers.Dense(128,activation='relu'),\n",
        "                             keras.layers.Dense(10,activation='softmax'),\n",
        "])\n",
        "\n",
        "model.compile(optimizer='adam',loss='sparse_categorical_crossentropy',metrics=['accuracy'])\n",
        "model.summary()\n",
        "model.fit(training_images,training_labels,epochs=5)\n",
        "\n",
        "print(\"For testing data\")\n",
        "test_loss=model.evaluate(testing_images,testing_labels)\n",
        "print(test_loss)"
      ],
      "execution_count": 0,
      "outputs": [
        {
          "output_type": "stream",
          "text": [
            "Model: \"sequential_1\"\n",
            "_________________________________________________________________\n",
            "Layer (type)                 Output Shape              Param #   \n",
            "=================================================================\n",
            "conv2d (Conv2D)              (None, 26, 26, 64)        640       \n",
            "_________________________________________________________________\n",
            "max_pooling2d (MaxPooling2D) (None, 13, 13, 64)        0         \n",
            "_________________________________________________________________\n",
            "conv2d_1 (Conv2D)            (None, 11, 11, 64)        36928     \n",
            "_________________________________________________________________\n",
            "max_pooling2d_1 (MaxPooling2 (None, 5, 5, 64)          0         \n",
            "_________________________________________________________________\n",
            "flatten_1 (Flatten)          (None, 1600)              0         \n",
            "_________________________________________________________________\n",
            "dense_2 (Dense)              (None, 128)               204928    \n",
            "_________________________________________________________________\n",
            "dense_3 (Dense)              (None, 10)                1290      \n",
            "=================================================================\n",
            "Total params: 243,786\n",
            "Trainable params: 243,786\n",
            "Non-trainable params: 0\n",
            "_________________________________________________________________\n",
            "Epoch 1/5\n",
            "1875/1875 [==============================] - 5s 2ms/step - loss: 0.4357 - accuracy: 0.8426\n",
            "Epoch 2/5\n",
            "1875/1875 [==============================] - 5s 2ms/step - loss: 0.2928 - accuracy: 0.8919\n",
            "Epoch 3/5\n",
            "1875/1875 [==============================] - 5s 2ms/step - loss: 0.2452 - accuracy: 0.9094\n",
            "Epoch 4/5\n",
            "1875/1875 [==============================] - 5s 2ms/step - loss: 0.2154 - accuracy: 0.9195\n",
            "Epoch 5/5\n",
            "1875/1875 [==============================] - 5s 2ms/step - loss: 0.1872 - accuracy: 0.9302\n",
            "For testing data\n",
            "313/313 [==============================] - 1s 2ms/step - loss: 0.2696 - accuracy: 0.9040\n",
            "[0.2696225047111511, 0.9039999842643738]\n"
          ],
          "name": "stdout"
        }
      ]
    },
    {
      "cell_type": "markdown",
      "metadata": {
        "id": "cfqxu04kyaLi",
        "colab_type": "text"
      },
      "source": [
        "In model summary, we can see that \n",
        "\n",
        "(Conv2D)==(None, 26, 26, 64) // Getting 26X26 because border pixels are omitted as they dont have neighbours.\n",
        "\n",
        "(MaxPooling2D)==(None, 13, 13, 64) //Reducing size of image \n",
        "\n",
        "____________________________________________\n",
        "(Conv2D)           == (None, 11, 11, 64)  \n",
        "(MaxPooling2)== (None, 5, 5, 64)\n",
        "\n",
        "Repeating same again until so that we get 5X5 image, 64 of them using 64 filters.\n"
      ]
    },
    {
      "cell_type": "markdown",
      "metadata": {
        "id": "cdC6h518zi4n",
        "colab_type": "text"
      },
      "source": [
        "**Finally we can see that accuracy increased to 93 for training_data and 90 for testing_data**"
      ]
    },
    {
      "cell_type": "markdown",
      "metadata": {
        "id": "m0Uv1D4O6xSA",
        "colab_type": "text"
      },
      "source": [
        "#Experimenting..."
      ]
    },
    {
      "cell_type": "code",
      "metadata": {
        "id": "6kNz7xdlzsAE",
        "colab_type": "code",
        "colab": {
          "base_uri": "https://localhost:8080/",
          "height": 748
        },
        "outputId": "dd0b54c7-e8a7-4e6f-fa1c-190820c875fd"
      },
      "source": [
        "import tensorflow as tf\n",
        "from tensorflow import keras\n",
        "\n",
        "mnist = tf.keras.datasets.fashion_mnist\n",
        "(training_images,training_labels),(testing_images,testing_labels)= mnist.load_data()\n",
        "\n",
        "training_images=training_images.reshape(60000, 28, 28, 1)\n",
        "training_images=training_images / 255.0\n",
        "testing_images = testing_images.reshape(10000, 28, 28, 1)\n",
        "testing_images=testing_images/255.0\n",
        "\n",
        "model = tf.keras.Sequential([\n",
        "                             keras.layers.Conv2D(32,(3,3),activation='relu',input_shape=(28,28,1)), #64=no.of filters, (3,3)-->matrix size\n",
        "                             keras.layers.MaxPooling2D(pool_size=(2,2)),\n",
        "                             keras.layers.Conv2D(64,(3,3),activation=tf.nn.relu),\n",
        "                             keras.layers.MaxPooling2D((2,2)),\n",
        "                             keras.layers.Flatten(),\n",
        "                             keras.layers.Dense(128,activation='relu'),\n",
        "                             keras.layers.Dense(10,activation='softmax'),\n",
        "])\n",
        "\n",
        "model.compile(optimizer='adam',loss='sparse_categorical_crossentropy',metrics=['accuracy'])\n",
        "model.summary()\n",
        "model.fit(training_images,training_labels,epochs=5)\n",
        "\n",
        "print(\"For testing data\")\n",
        "test_loss=model.evaluate(testing_images,testing_labels)\n",
        "print(test_loss)"
      ],
      "execution_count": 1,
      "outputs": [
        {
          "output_type": "stream",
          "text": [
            "Downloading data from https://storage.googleapis.com/tensorflow/tf-keras-datasets/train-labels-idx1-ubyte.gz\n",
            "32768/29515 [=================================] - 0s 0us/step\n",
            "Downloading data from https://storage.googleapis.com/tensorflow/tf-keras-datasets/train-images-idx3-ubyte.gz\n",
            "26427392/26421880 [==============================] - 0s 0us/step\n",
            "Downloading data from https://storage.googleapis.com/tensorflow/tf-keras-datasets/t10k-labels-idx1-ubyte.gz\n",
            "8192/5148 [===============================================] - 0s 0us/step\n",
            "Downloading data from https://storage.googleapis.com/tensorflow/tf-keras-datasets/t10k-images-idx3-ubyte.gz\n",
            "4423680/4422102 [==============================] - 0s 0us/step\n",
            "Model: \"sequential\"\n",
            "_________________________________________________________________\n",
            "Layer (type)                 Output Shape              Param #   \n",
            "=================================================================\n",
            "conv2d (Conv2D)              (None, 26, 26, 32)        320       \n",
            "_________________________________________________________________\n",
            "max_pooling2d (MaxPooling2D) (None, 13, 13, 32)        0         \n",
            "_________________________________________________________________\n",
            "conv2d_1 (Conv2D)            (None, 11, 11, 64)        18496     \n",
            "_________________________________________________________________\n",
            "max_pooling2d_1 (MaxPooling2 (None, 5, 5, 64)          0         \n",
            "_________________________________________________________________\n",
            "flatten (Flatten)            (None, 1600)              0         \n",
            "_________________________________________________________________\n",
            "dense (Dense)                (None, 128)               204928    \n",
            "_________________________________________________________________\n",
            "dense_1 (Dense)              (None, 10)                1290      \n",
            "=================================================================\n",
            "Total params: 225,034\n",
            "Trainable params: 225,034\n",
            "Non-trainable params: 0\n",
            "_________________________________________________________________\n",
            "Epoch 1/5\n",
            "1875/1875 [==============================] - 9s 5ms/step - loss: 0.4478 - accuracy: 0.8377\n",
            "Epoch 2/5\n",
            "1875/1875 [==============================] - 10s 5ms/step - loss: 0.2984 - accuracy: 0.8898\n",
            "Epoch 3/5\n",
            "1875/1875 [==============================] - 9s 5ms/step - loss: 0.2525 - accuracy: 0.9065\n",
            "Epoch 4/5\n",
            "1875/1875 [==============================] - 9s 5ms/step - loss: 0.2206 - accuracy: 0.9181\n",
            "Epoch 5/5\n",
            "1875/1875 [==============================] - 9s 5ms/step - loss: 0.1935 - accuracy: 0.9276\n",
            "For testing data\n",
            "313/313 [==============================] - 1s 3ms/step - loss: 0.2505 - accuracy: 0.9112\n",
            "[0.2504996955394745, 0.9111999869346619]\n"
          ],
          "name": "stdout"
        }
      ]
    },
    {
      "cell_type": "code",
      "metadata": {
        "id": "43g4cUXP67cd",
        "colab_type": "code",
        "colab": {
          "base_uri": "https://localhost:8080/",
          "height": 544
        },
        "outputId": "45bdde19-13aa-4e1a-df6d-1bd71be38f49"
      },
      "source": [
        "import tensorflow as tf\n",
        "from tensorflow import keras\n",
        "\n",
        "mnist = tf.keras.datasets.fashion_mnist\n",
        "(training_images,training_labels),(testing_images,testing_labels)= mnist.load_data()\n",
        "\n",
        "training_images=training_images.reshape(60000, 28, 28, 1)\n",
        "training_images=training_images / 255.0\n",
        "testing_images = testing_images.reshape(10000, 28, 28, 1)\n",
        "testing_images=testing_images/255.0\n",
        "\n",
        "model = tf.keras.Sequential([\n",
        "                             keras.layers.Conv2D(32,(3,3),activation='relu',input_shape=(28,28,1)), #64=no.of filters, (3,3)-->matrix size\n",
        "                             keras.layers.MaxPooling2D(pool_size=(2,2)),\n",
        "                             keras.layers.Flatten(),\n",
        "                             keras.layers.Dense(128,activation='relu'),\n",
        "                             keras.layers.Dense(10,activation='softmax'),\n",
        "])\n",
        "\n",
        "model.compile(optimizer='adam',loss='sparse_categorical_crossentropy',metrics=['accuracy'])\n",
        "model.summary()\n",
        "model.fit(training_images,training_labels,epochs=5)\n",
        "\n",
        "print(\"For testing data\")\n",
        "test_loss=model.evaluate(testing_images,testing_labels)\n",
        "print(test_loss)"
      ],
      "execution_count": 3,
      "outputs": [
        {
          "output_type": "stream",
          "text": [
            "Model: \"sequential_2\"\n",
            "_________________________________________________________________\n",
            "Layer (type)                 Output Shape              Param #   \n",
            "=================================================================\n",
            "conv2d_3 (Conv2D)            (None, 26, 26, 32)        320       \n",
            "_________________________________________________________________\n",
            "max_pooling2d_3 (MaxPooling2 (None, 13, 13, 32)        0         \n",
            "_________________________________________________________________\n",
            "flatten_2 (Flatten)          (None, 5408)              0         \n",
            "_________________________________________________________________\n",
            "dense_4 (Dense)              (None, 128)               692352    \n",
            "_________________________________________________________________\n",
            "dense_5 (Dense)              (None, 10)                1290      \n",
            "=================================================================\n",
            "Total params: 693,962\n",
            "Trainable params: 693,962\n",
            "Non-trainable params: 0\n",
            "_________________________________________________________________\n",
            "Epoch 1/5\n",
            "1875/1875 [==============================] - 7s 4ms/step - loss: 0.3888 - accuracy: 0.8612\n",
            "Epoch 2/5\n",
            "1875/1875 [==============================] - 7s 4ms/step - loss: 0.2624 - accuracy: 0.9040\n",
            "Epoch 3/5\n",
            "1875/1875 [==============================] - 7s 4ms/step - loss: 0.2189 - accuracy: 0.9181\n",
            "Epoch 4/5\n",
            "1875/1875 [==============================] - 7s 4ms/step - loss: 0.1865 - accuracy: 0.9314\n",
            "Epoch 5/5\n",
            "1875/1875 [==============================] - 7s 4ms/step - loss: 0.1595 - accuracy: 0.9417\n",
            "For testing data\n",
            "313/313 [==============================] - 1s 3ms/step - loss: 0.2662 - accuracy: 0.9104\n",
            "[0.2661742568016052, 0.9103999733924866]\n"
          ],
          "name": "stdout"
        }
      ]
    },
    {
      "cell_type": "markdown",
      "metadata": {
        "id": "oVewV_Lv7wgC",
        "colab_type": "text"
      },
      "source": [
        "**By taking one set of Conv2D and polling with 32 filters increased accuracy**"
      ]
    },
    {
      "cell_type": "code",
      "metadata": {
        "id": "PZC8YbKO7edS",
        "colab_type": "code",
        "colab": {
          "base_uri": "https://localhost:8080/",
          "height": 544
        },
        "outputId": "e0adc75e-78af-411b-a211-b0771f98072e"
      },
      "source": [
        "import tensorflow as tf\n",
        "from tensorflow import keras\n",
        "\n",
        "mnist = tf.keras.datasets.fashion_mnist\n",
        "(training_images,training_labels),(testing_images,testing_labels)= mnist.load_data()\n",
        "\n",
        "training_images=training_images.reshape(60000, 28, 28, 1)\n",
        "training_images=training_images / 255.0\n",
        "testing_images = testing_images.reshape(10000, 28, 28, 1)\n",
        "testing_images=testing_images/255.0\n",
        "\n",
        "model = tf.keras.Sequential([\n",
        "                             keras.layers.Conv2D(64,(3,3),activation='relu',input_shape=(28,28,1)), #64=no.of filters, (3,3)-->matrix size\n",
        "                             keras.layers.MaxPooling2D(pool_size=(2,2)),\n",
        "                             keras.layers.Flatten(),\n",
        "                             keras.layers.Dense(128,activation='relu'),\n",
        "                             keras.layers.Dense(10,activation='softmax'),\n",
        "])\n",
        "\n",
        "model.compile(optimizer='adam',loss='sparse_categorical_crossentropy',metrics=['accuracy'])\n",
        "model.summary()\n",
        "model.fit(training_images,training_labels,epochs=5)\n",
        "\n",
        "print(\"For testing data\")\n",
        "test_loss=model.evaluate(testing_images,testing_labels)\n",
        "print(test_loss)"
      ],
      "execution_count": 4,
      "outputs": [
        {
          "output_type": "stream",
          "text": [
            "Model: \"sequential_3\"\n",
            "_________________________________________________________________\n",
            "Layer (type)                 Output Shape              Param #   \n",
            "=================================================================\n",
            "conv2d_4 (Conv2D)            (None, 26, 26, 64)        640       \n",
            "_________________________________________________________________\n",
            "max_pooling2d_4 (MaxPooling2 (None, 13, 13, 64)        0         \n",
            "_________________________________________________________________\n",
            "flatten_3 (Flatten)          (None, 10816)             0         \n",
            "_________________________________________________________________\n",
            "dense_6 (Dense)              (None, 128)               1384576   \n",
            "_________________________________________________________________\n",
            "dense_7 (Dense)              (None, 10)                1290      \n",
            "=================================================================\n",
            "Total params: 1,386,506\n",
            "Trainable params: 1,386,506\n",
            "Non-trainable params: 0\n",
            "_________________________________________________________________\n",
            "Epoch 1/5\n",
            "1875/1875 [==============================] - 9s 5ms/step - loss: 0.3749 - accuracy: 0.8663\n",
            "Epoch 2/5\n",
            "1875/1875 [==============================] - 9s 5ms/step - loss: 0.2506 - accuracy: 0.9079\n",
            "Epoch 3/5\n",
            "1875/1875 [==============================] - 9s 5ms/step - loss: 0.2038 - accuracy: 0.9251\n",
            "Epoch 4/5\n",
            "1875/1875 [==============================] - 9s 5ms/step - loss: 0.1701 - accuracy: 0.9372\n",
            "Epoch 5/5\n",
            "1875/1875 [==============================] - 9s 5ms/step - loss: 0.1423 - accuracy: 0.9466\n",
            "For testing data\n",
            "313/313 [==============================] - 1s 3ms/step - loss: 0.2462 - accuracy: 0.9161\n",
            "[0.24622197449207306, 0.916100025177002]\n"
          ],
          "name": "stdout"
        }
      ]
    },
    {
      "cell_type": "markdown",
      "metadata": {
        "id": "eMRFS5P48UOy",
        "colab_type": "text"
      },
      "source": [
        "**The same as above with 64 filtes again increased accuracy**"
      ]
    },
    {
      "cell_type": "code",
      "metadata": {
        "id": "32ptPCTG8C7C",
        "colab_type": "code",
        "colab": {}
      },
      "source": [
        ""
      ],
      "execution_count": 0,
      "outputs": []
    }
  ]
}